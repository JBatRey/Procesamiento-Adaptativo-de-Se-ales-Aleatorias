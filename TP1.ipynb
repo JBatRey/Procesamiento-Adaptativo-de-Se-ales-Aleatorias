{
  "nbformat": 4,
  "nbformat_minor": 0,
  "metadata": {
    "colab": {
      "provenance": []
    },
    "kernelspec": {
      "name": "python3",
      "display_name": "Python 3"
    },
    "language_info": {
      "name": "python"
    }
  },
  "cells": [
    {
      "cell_type": "markdown",
      "source": [
        "Importo los archivos los archivos y tomo las caracteristicas de interes\n",
        "\n"
      ],
      "metadata": {
        "id": "oJvjlDx1UMIq"
      }
    },
    {
      "cell_type": "code",
      "source": [
        "!pip install arch"
      ],
      "metadata": {
        "id": "sir4LPhXUaCq"
      },
      "execution_count": null,
      "outputs": []
    },
    {
      "cell_type": "code",
      "source": [
        "import matplotlib.pyplot as plt\n",
        "import h5py\n",
        "import numpy as np\n",
        "from arch.unitroot import ADF, PhillipsPerron\n",
        "from statsmodels.tsa.stattools import adfuller, kpss\n",
        "from scipy.signal import periodogram\n",
        "from scipy.interpolate import interp1d\n",
        "from scipy.signal import butter, lfilter"
      ],
      "metadata": {
        "id": "hrE3lV_eU897"
      },
      "execution_count": null,
      "outputs": []
    },
    {
      "cell_type": "code",
      "execution_count": null,
      "metadata": {
        "id": "s_Fg-SFJTxy5"
      },
      "outputs": [],
      "source": [
        "# Open hdf5 files\n",
        "filename_h1 = 'h1_4khz_32s.hdf5'\n",
        "filename_l1 = 'l1_4khz_32s.hdf5'\n",
        "\n",
        "with h5py.File(filename_h1, 'r') as f_h1:\n",
        "    h1_s = f_h1['strain/Strain'][...]\n",
        "    h1_fs = 1 / f_h1['strain/Strain'].attrs['Xspacing']\n",
        "    h1_st = f_h1['meta/GPSstart'][()]\n",
        "\n",
        "with h5py.File(filename_l1, 'r') as f_l1:\n",
        "    l1_s = f_l1['strain/Strain'][...]\n",
        "    l1_fs = 1 / f_l1['strain/Strain'].attrs['Xspacing']\n",
        "    l1_st = f_l1['meta/GPSstart'][()]"
      ]
    },
    {
      "cell_type": "code",
      "source": [
        "h1_st"
      ],
      "metadata": {
        "id": "gXbTYJFZUKCr"
      },
      "execution_count": null,
      "outputs": []
    },
    {
      "cell_type": "code",
      "source": [
        "len(l1_s)"
      ],
      "metadata": {
        "id": "5PG69gv_ULPi"
      },
      "execution_count": null,
      "outputs": []
    },
    {
      "cell_type": "markdown",
      "source": [
        "Realizo un EDA"
      ],
      "metadata": {
        "id": "yXYxjxZvUhsK"
      }
    },
    {
      "cell_type": "code",
      "source": [
        "gw_time = 1126259462.442\n",
        "gw_st = gw_time - h1_st\n",
        "gw_large = 0.2\n",
        "time = np.arange(0,h1_s.shape[0]/h1_fs, 1/h1_fs)"
      ],
      "metadata": {
        "id": "GGAeWI_fUsfZ"
      },
      "execution_count": null,
      "outputs": []
    },
    {
      "cell_type": "code",
      "source": [
        "gw_st"
      ],
      "metadata": {
        "id": "e8jQdDEfU5iR"
      },
      "execution_count": null,
      "outputs": []
    },
    {
      "cell_type": "code",
      "source": [
        "fig, (ax1, ax2) = plt.subplots(2, 1, figsize=(10, 8))\n",
        "ax1.plot(time, h1_s, linewidth=0.5, color= \"black\")\n",
        "ax1.set_title('h1')\n",
        "ax1.set_xlabel('Time (s)')\n",
        "\n",
        "ax2.plot(time, l1_s, linewidth=0.5, color= \"orange\")\n",
        "ax2.set_title('l1')\n",
        "ax2.set_xlabel('Time (s)')\n",
        "\n",
        "plt.tight_layout()\n",
        "plt.show()"
      ],
      "metadata": {
        "id": "jOmi4_sIU6py"
      },
      "execution_count": null,
      "outputs": []
    },
    {
      "cell_type": "markdown",
      "source": [
        "Separo una porcion del espectro con el evento y analizo despues el ruido por separado"
      ],
      "metadata": {
        "id": "NA2vclHjVfQc"
      }
    },
    {
      "cell_type": "code",
      "source": [
        "N = 1\n",
        "h1_gw = h1_s[(time >= gw_st-N) & (time <= gw_st + N)]\n",
        "l1_gw = l1_s[(time >= gw_st-N) & (time <= gw_st + N)]\n",
        "time_gw = time[(time >= gw_st-N) & (time <= gw_st + N)]"
      ],
      "metadata": {
        "id": "lR1U_6Z3VdKK"
      },
      "execution_count": null,
      "outputs": []
    },
    {
      "cell_type": "code",
      "source": [
        "fig, (ax1, ax2) = plt.subplots(2, 1, figsize=(10, 8))\n",
        "ax1.plot(time_gw, h1_gw, linewidth=0.5, color= \"yellow\")\n",
        "ax1.set_title('h1_gw')\n",
        "ax1.set_xlabel('Time (s)')\n",
        "\n",
        "ax2.plot(time_gw, l1_gw, linewidth=0.5)\n",
        "ax2.set_title('l1_gw')\n",
        "ax2.set_xlabel('Time (s)')\n",
        "\n",
        "plt.tight_layout()\n",
        "plt.show()"
      ],
      "metadata": {
        "id": "zJ86bVtzVpDh"
      },
      "execution_count": null,
      "outputs": []
    },
    {
      "cell_type": "markdown",
      "source": [
        "Ahora separo el ruido para estudiar estacionareidad"
      ],
      "metadata": {
        "id": "Gl0PovxTVsvi"
      }
    },
    {
      "cell_type": "code",
      "source": [
        "h1_ruido = h1_s[(time > gw_st + N)]\n",
        "l1_ruido = l1_s[(time > gw_st + N)]\n",
        "time_ruido = time[(time > gw_st + N)]"
      ],
      "metadata": {
        "id": "ZLA3G4oLVrFC"
      },
      "execution_count": null,
      "outputs": []
    },
    {
      "cell_type": "code",
      "source": [
        "fig, (ax1, ax2) = plt.subplots(2, 1, figsize=(10, 8))\n",
        "ax1.plot(time_ruido, h1_ruido, linewidth=0.5, color= \"red\")\n",
        "ax1.set_title('h1_ruido')\n",
        "ax1.set_xlabel('Time (s)')\n",
        "\n",
        "ax2.plot(time_ruido, l1_ruido, linewidth=0.5)\n",
        "ax2.set_title('l1_ruido')\n",
        "ax2.set_xlabel('Time (s)')\n",
        "\n",
        "plt.tight_layout()\n",
        "plt.show()"
      ],
      "metadata": {
        "id": "WfSeJDWmVx4B"
      },
      "execution_count": null,
      "outputs": []
    },
    {
      "cell_type": "markdown",
      "source": [
        "TEST DE ESTACIONAREIDAD"
      ],
      "metadata": {
        "id": "0QsfRsdDUrQq"
      }
    },
    {
      "cell_type": "markdown",
      "source": [
        "Se multiplica por una constante grande, ya que debido a los valores de la señal hace underflow en algunos casos dando resultados erroneos"
      ],
      "metadata": {
        "id": "7g3mGfzvZPNR"
      }
    },
    {
      "cell_type": "code",
      "source": [
        "def EsEstacionario(signal):\n",
        "  #PhillipsPerron Test\n",
        "  phpr_result = PhillipsPerron(signal)\n",
        "  phpr_p_value = phpr_result.pvalue\n",
        "  phpr_test_result = \"Stationary\" if phpr_p_value < alpha else \"Not stationary\"\n",
        "  print(\"Augmented Dickey-Fuller Test:\", phpr_test_result)\n",
        "  # Augmented Dickey-Fuller Test\n",
        "  adf_result = ADF(signal)\n",
        "  adf_p_value = adf_result.pvalue #adf_result[1]\n",
        "  adf_test_result = \"Stationary\" if adf_p_value < alpha else \"Not stationary\"\n",
        "  print(\"Augmented Dickey-Fuller Test:\", adf_test_result)\n",
        "  # Kwiatkowski-Phillips-Schmidt-Shin Test\n",
        "  kpss_result = kpss(signal)\n",
        "  kpss_p_value = kpss_result[1]\n",
        "  kpss_test_result = \"Stationary\" if kpss_p_value > alpha else \"Not stationary\"\n",
        "  print(\"Kwiatkowski-Phillips-Schmidt-Shin Test:\", kpss_test_result)"
      ],
      "metadata": {
        "id": "hMAzFaXaUhgA"
      },
      "execution_count": null,
      "outputs": []
    },
    {
      "cell_type": "code",
      "source": [
        "#Valor significativo\n",
        "alpha = 0.05"
      ],
      "metadata": {
        "id": "Tkfj_UOiUc1h"
      },
      "execution_count": null,
      "outputs": []
    },
    {
      "cell_type": "code",
      "source": [
        "len(l1_ruido)"
      ],
      "metadata": {
        "id": "HPIW_dAMWkTQ"
      },
      "execution_count": null,
      "outputs": []
    },
    {
      "cell_type": "code",
      "source": [
        "len(h1_ruido)"
      ],
      "metadata": {
        "id": "az2Ost8OWoPy"
      },
      "execution_count": null,
      "outputs": []
    },
    {
      "cell_type": "code",
      "source": [
        "EsEstacionario(l1_s*1e30)"
      ],
      "metadata": {
        "id": "z-PU4SdbXl-w"
      },
      "execution_count": null,
      "outputs": []
    },
    {
      "cell_type": "code",
      "source": [
        "EsEstacionario(h1_s*1e30)"
      ],
      "metadata": {
        "id": "hL84QdJAXndw"
      },
      "execution_count": null,
      "outputs": []
    },
    {
      "cell_type": "code",
      "source": [
        "EsEstacionario(l1_ruido*1e30)"
      ],
      "metadata": {
        "id": "kcPhESeKUul7"
      },
      "execution_count": null,
      "outputs": []
    },
    {
      "cell_type": "code",
      "source": [
        "EsEstacionario(h1_ruido*1e30)"
      ],
      "metadata": {
        "id": "_GY6VKlJWimk"
      },
      "execution_count": null,
      "outputs": []
    },
    {
      "cell_type": "markdown",
      "source": [
        "Da estacionario, restamos entonces las medias a cada señal."
      ],
      "metadata": {
        "id": "lf_JtQu2ZMF6"
      }
    },
    {
      "cell_type": "code",
      "source": [
        "h1_ruido = h1_ruido - np.mean(h1_ruido)\n",
        "l1_ruido = l1_ruido - np.mean(l1_ruido)"
      ],
      "metadata": {
        "id": "_KVW9Zg8Xa7R"
      },
      "execution_count": null,
      "outputs": []
    },
    {
      "cell_type": "markdown",
      "source": [
        "Periodograma"
      ],
      "metadata": {
        "id": "pFqzmAwYZbqe"
      }
    },
    {
      "cell_type": "code",
      "source": [
        "def periodogram(x, win):\n",
        "    N = len(x)\n",
        "    w = scipy.signal.get_window(Nx = N, window = win)\n",
        "    Rx = (scipy.fft.fft(x*w))**2 * (1/N)\n",
        "    return Rx"
      ],
      "metadata": {
        "id": "wz_y3zeXXgjR"
      },
      "execution_count": null,
      "outputs": []
    },
    {
      "cell_type": "code",
      "source": [
        "Rx = periodogram(h1_ruido, 'bartlett')\n",
        "Rx2 = periodogram(h1_ruido, 'parzen')\n",
        "x_ax = np.linspace(0,0.5, len(Rx)) * h1_fs\n",
        "plt.plot(x_ax, 10*np.log10(Rx), 'blue')\n",
        "plt.plot(x_ax, 10*np.log10(Rx2), 'red')\n",
        "plt.title('Periodogram - N= ' + str(len(h1_ruido)))\n",
        "plt.grid()\n",
        "plt.xscale(\"log\")\n",
        "plt.show()"
      ],
      "metadata": {
        "id": "qFQgsx-XafIh"
      },
      "execution_count": null,
      "outputs": []
    },
    {
      "cell_type": "markdown",
      "source": [
        "Welch Bartlett"
      ],
      "metadata": {
        "id": "mBDq_hnjajsi"
      }
    },
    {
      "cell_type": "code",
      "source": [
        "def autocorr(x, L):\n",
        "    '''N = len(x)\n",
        "    rx = np.zeros(N)\n",
        "    for l in range(L):\n",
        "        sum = 0\n",
        "        for i in range(N-l):\n",
        "            sum += (x[i]*x[i+l])/N\n",
        "        rx[l]=sum\n",
        "    rx2 = (rx[1:])[::-1]\n",
        "    return np.concatenate([rx2, rx])'''\n",
        "    return scipy.signal.correlate(x,x, 'full')/len(x)\n",
        "\n",
        "\n",
        "def apply_window(rx, L, win):\n",
        "    N = len(rx)\n",
        "    window = scipy.signal.get_window(Nx = 2*L+1, window = win)\n",
        "    pw = int((N-len(window))/2)\n",
        "\n",
        "    padded_window = np.pad(array = window, pad_width=pw)\n",
        "    return rx*padded_window\n",
        "\n",
        "\n",
        "def blackman_tuckey(signal, L, w):\n",
        "    rx = autocorr(signal, L)\n",
        "    N = len(h1_ruido)\n",
        "    Rx_smoothing = abs(scipy.fft.fft(apply_window(rx, L, w)))\n",
        "    return Rx_smoothing[:len(h1_ruido)]"
      ],
      "metadata": {
        "id": "3gPwauH6cfXi"
      },
      "execution_count": null,
      "outputs": []
    },
    {
      "cell_type": "code",
      "source": [
        "def welch_bartlett(signal, w, segment_size, overlap = 0):\n",
        "\n",
        "    X_prom = np.zeros(segment_size)\n",
        "    N = len(signal)\n",
        "    i=0\n",
        "    segment_count = 0\n",
        "    d = int(segment_size*(1-overlap))\n",
        "    while i+segment_size<N:\n",
        "        segment = signal[i:i+segment_size]\n",
        "        s_len = len(segment)\n",
        "        Xr = abs(scipy.fft.fft(segment*scipy.signal.get_window(Nx = s_len, window = w)))\n",
        "        X_prom += np.power(Xr, 2)\n",
        "        i=i+d\n",
        "        segment_count+=1\n",
        "\n",
        "\n",
        "    X_prom /= (segment_count*segment_size)\n",
        "\n",
        "    return X_prom[:int(segment_size/2)]"
      ],
      "metadata": {
        "id": "YCQ8_lC_ajYK"
      },
      "execution_count": null,
      "outputs": []
    },
    {
      "cell_type": "code",
      "source": [
        "w = 'parzen'\n",
        "L = 15000\n",
        "Rx_pa = welch_bartlett(h1_ruido, w, L, overlap=0.25)\n",
        "#plt.plot(np.array(range(len(Rx_pa)))/len(Rx_pa),20*np.log10(Rx_pa), label = L)\n",
        "plt.title('Welch-Bartlett - win: ' + w)\n",
        "#plt.grid()\n",
        "#plt.xscale(\"log\")\n",
        "\n",
        "w = 'parzen'\n",
        "L = 5000\n",
        "Rx_pa = welch_bartlett(h1_ruido, w, L, overlap=0.25)\n",
        "x_ax = np.linspace(0,0.5, len(Rx_pa)) * h1_fs\n",
        "plt.plot(x_ax, 10*np.log10(Rx_pa), label = L)\n",
        "#plt.title('Welch-Bartlett - win: ' + w)\n",
        "#plt.grid()\n",
        "#plt.xscale(\"log\")\n",
        "\n",
        "w = 'parzen'\n",
        "L = 10000\n",
        "Rx_pa = welch_bartlett(h1_ruido, w, L, overlap=0.25)\n",
        "x_ax = np.linspace(0,0.5, len(Rx_pa)) * h1_fs\n",
        "\n",
        "plt.plot(x_ax, 10*np.log10(Rx_pa), label = L)\n",
        "#plt.title('Welch-Bartlett - win: ' + w)\n",
        "plt.grid()\n",
        "plt.xscale(\"log\")\n",
        "\n",
        "plt.legend()\n",
        "plt.show()"
      ],
      "metadata": {
        "id": "CVHA-dnLew7w"
      },
      "execution_count": null,
      "outputs": []
    },
    {
      "cell_type": "code",
      "source": [
        "L = 15000\n",
        "w = 'parzen'\n",
        "\n",
        "smoothRx = blackman_tuckey(h1_ruido, L, w)\n",
        "x_ax = np.linspace(0,0.5, len(smoothRx)) * h1_fs\n",
        "plt.plot(x_ax, 10*np.log10(smoothRx), label = str(L))\n",
        "\n",
        "L =10000\n",
        "w = 'parzen'\n",
        "smoothRx = blackman_tuckey(h1_ruido, L, w)\n",
        "plt.plot(x_ax, 10*np.log10(smoothRx), label = str(L))\n",
        "plt.title('Blackman Tuckey -  L = ' + str(L) + ' - N = ' + str(len(h1_ruido)) + ' - win: ' + w)\n",
        "plt.grid()\n",
        "plt.xscale(\"log\")\n",
        "plt.legend()\n",
        "\n",
        "plt.show()"
      ],
      "metadata": {
        "id": "Z-zIaeeVe2d-"
      },
      "execution_count": null,
      "outputs": []
    },
    {
      "cell_type": "code",
      "source": [
        "plt.plot(10*np.log10(smoothRx))\n",
        "plt.title('Blackman Tuckey -  L = ' + str(L) + ' - N = ' + str(len(h1_ruido)) + ' - win: ' + w)\n",
        "plt.grid()\n",
        "plt.show()"
      ],
      "metadata": {
        "id": "z7sQ_E-we4mj"
      },
      "execution_count": null,
      "outputs": []
    },
    {
      "cell_type": "code",
      "source": [
        "w = 'parzen'\n",
        "L = 15000\n",
        "Rx_pa = welch_bartlett(h1_ruido, w, L, overlap=0.25)\n",
        "plt.plot(np.array(range(len(Rx_pa)))/len(Rx_pa),20*np.log10(Rx_pa), label = L)\n",
        "plt.title('Welch-Bartlett - win: ' + w)\n",
        "#plt.grid()\n",
        "#plt.xscale(\"log\")\n",
        "\n",
        "w = 'parzen'\n",
        "L = 5000\n",
        "Rx_pa = welch_bartlett(h1_ruido, w, L, overlap=0.25)\n",
        "plt.plot(np.array(range(len(Rx_pa)))/len(Rx_pa),20*np.log10(Rx_pa), label = L)\n",
        "#plt.title('Welch-Bartlett - win: ' + w)\n",
        "#plt.grid()\n",
        "#plt.xscale(\"log\")\n",
        "\n",
        "w = 'parzen'\n",
        "L = 2000\n",
        "Rx_pa = welch_bartlett(h1_ruido, w, L, overlap=0.25)\n",
        "plt.plot(np.array(range(len(Rx_pa)))/len(Rx_pa), 20*np.log10(Rx_pa), label = L)\n",
        "#plt.title('Welch-Bartlett - win: ' + w)\n",
        "plt.grid()\n",
        "plt.xscale(\"log\")\n",
        "plt.legend()\n",
        "plt.show()"
      ],
      "metadata": {
        "id": "_eLyb23ce8B2"
      },
      "execution_count": null,
      "outputs": []
    },
    {
      "cell_type": "markdown",
      "source": [
        "whitenning"
      ],
      "metadata": {
        "id": "G6gWjUuCfQsp"
      }
    },
    {
      "cell_type": "markdown",
      "source": [
        "hay que tomar el mejor metodo, y definir h1p_f a la frecuencia y h1p_p al espectro"
      ],
      "metadata": {
        "id": "4eik3xOFfTWo"
      }
    },
    {
      "cell_type": "code",
      "source": [
        "h1_psd = interp1d(h1p_f*h1_fs, h1p_p, kind='nearest', bounds_error=False, assume_sorted=True)\n",
        "l1_psd = interp1d(l1p_f*l1_fs, l1p_p, kind='nearest', bounds_error=False, assume_sorted=True)"
      ],
      "metadata": {
        "id": "-5rp-oH1fAs_"
      },
      "execution_count": null,
      "outputs": []
    },
    {
      "cell_type": "code",
      "source": [
        "\n",
        "h1_psd = np.abs(h1_psd(np.fft.rfftfreq(len(h1_s), 1/h1_fs)))**2\n",
        "l1_psd = np.abs(l1_psd(np.fft.rfftfreq(len(l1_s), 1/l1_fs)))**2\n",
        "\n",
        "# Signal whitening\n",
        "h1_w = np.fft.irfft(np.fft.rfft(h1_s) / np.sqrt(h1_psd))\n",
        "l1_w = np.fft.irfft(np.fft.rfft(l1_s) / np.sqrt(l1_psd))"
      ],
      "metadata": {
        "id": "DHfQRWA4fcG9"
      },
      "execution_count": null,
      "outputs": []
    },
    {
      "cell_type": "code",
      "source": [
        "nyqh = 0.5 * h1_fs\n",
        "low_h = 30\n",
        "high_h = 300\n",
        "lowh = low_h / nyqh\n",
        "highh = high_h / nyqh\n",
        "bh, ah = butter(6, [lowh, highh], btype='band')\n",
        "\n",
        "nyql = 0.5 * l1_fs\n",
        "low_l = 20\n",
        "high_l = 300\n",
        "lowl = low_l / nyql\n",
        "highl = high_l / nyql\n",
        "bl, al = butter(6, [lowl, highl], btype='band')\n",
        "\n",
        "# Apply passband filter\n",
        "h1_f_w = lfilter(bh, ah, h1_w)\n",
        "l1_f_w = lfilter(bl, al, l1_w)"
      ],
      "metadata": {
        "id": "nLQBPZ6vfgV5"
      },
      "execution_count": null,
      "outputs": []
    },
    {
      "cell_type": "markdown",
      "source": [
        "corr cruzada\n",
        "habia que invertir uno noma"
      ],
      "metadata": {
        "id": "3vTPpyIddjLn"
      }
    },
    {
      "cell_type": "code",
      "source": [
        "interval = (time > gw_st - 0.1) & (time < gw_st + 0.1)\n",
        "N = len(h1_f_w_signal[interval])\n",
        "x_corr = np.correlate(h1_f_w[interval], -l1_f_w[interval], 'full')"
      ],
      "metadata": {
        "id": "yAHrXgxudli4"
      },
      "execution_count": null,
      "outputs": []
    },
    {
      "cell_type": "code",
      "source": [
        " (np.argmax(x_corr)-N)/h1_fs * 1e3"
      ],
      "metadata": {
        "id": "Fi1clxVqiDIQ"
      },
      "execution_count": null,
      "outputs": []
    }
  ]
}