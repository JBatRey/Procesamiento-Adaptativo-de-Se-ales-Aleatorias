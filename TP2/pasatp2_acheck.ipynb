{
 "cells": [
  {
   "cell_type": "code",
   "execution_count": 3,
   "metadata": {},
   "outputs": [],
   "source": [
    "import numpy as np\n",
    "import matplotlib.pyplot as plt\n",
    "import scipy.signal as sig\n",
    "from scipy.signal import correlate\n",
    "from IPython.display import Audio\n",
    "from scipy.io import wavfile\n",
    "from scipy import linalg, hamming\n",
    "from scipy.fft import fft, fftfreq"
   ]
  },
  {
   "cell_type": "code",
   "execution_count": null,
   "metadata": {},
   "outputs": [],
   "source": [
    "audio_original = \"\"\n",
    "audio_grabado = \"\""
   ]
  },
  {
   "cell_type": "code",
   "execution_count": null,
   "metadata": {},
   "outputs": [],
   "source": [
    "audio_original = audio_original / 32767\n",
    "audio_grabado = audio_grabado / 32767\n",
    "audio_original -= np.mean(audio_original) #marc dijo que es estacionario\n",
    "audio_grabado -= np.mean(audio_grabado)"
   ]
  },
  {
   "cell_type": "code",
   "execution_count": null,
   "metadata": {},
   "outputs": [],
   "source": [
    "relleno = len(audio_grabado)-len(audio_original)\n",
    "audio_original = np.concatenate((audio_original, np.zeros(relleno)))\n",
    "xcorr = correlate(audio_grabado / np.max(audio_grabado), audio_original / np.max(audio_original)) #sin normalizar creo da raro\n",
    "delay = np.abs((len(xcorr) // 2) - np.argmax(np.abs(xcorr))) #mi amigo el chato\n",
    "audio_grabado = np.concatenate((audio_grabado[delay:], np.zeros(delay)))"
   ]
  },
  {
   "cell_type": "code",
   "execution_count": null,
   "metadata": {},
   "outputs": [],
   "source": [
    "print(len(correlate(audio_original, audio_original)))\n",
    "print(correlate(audio_original, audio_original)[0])"
   ]
  },
  {
   "cell_type": "code",
   "execution_count": null,
   "metadata": {},
   "outputs": [],
   "source": [
    "r = correlate(audio_original, audio_original)[len(audio_original)//2:]\n",
    "p = correlate(audio_grabado, audio_original)[len(audio_original)//2:]\n",
    "var_grabado = np.var(audio_grabado)\n",
    "M = 10e3\n",
    "wo = linalg.solve_toeplitz(r[:M],p[:M])\n",
    "Jo = np.var(audio_grabado) - p[:M]*wo\n",
    "Epsilon = Jo/np.var(audio_grabado)"
   ]
  }
 ],
 "metadata": {
  "kernelspec": {
   "display_name": "Python 3",
   "language": "python",
   "name": "python3"
  },
  "language_info": {
   "codemirror_mode": {
    "name": "ipython",
    "version": 3
   },
   "file_extension": ".py",
   "mimetype": "text/x-python",
   "name": "python",
   "nbconvert_exporter": "python",
   "pygments_lexer": "ipython3",
   "version": "3.11.0"
  },
  "orig_nbformat": 4
 },
 "nbformat": 4,
 "nbformat_minor": 2
}
